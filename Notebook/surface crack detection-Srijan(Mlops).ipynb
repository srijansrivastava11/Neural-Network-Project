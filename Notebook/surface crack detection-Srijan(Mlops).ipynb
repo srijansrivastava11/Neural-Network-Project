{
 "cells": [
  {
   "cell_type": "code",
   "execution_count": 9,
   "metadata": {
    "_cell_guid": "b1076dfc-b9ad-4769-8c92-a6c4dae69d19",
    "_uuid": "8f2839f25d086af736a60e9eeb907d3b93b6e0e5"
   },
   "outputs": [],
   "source": [
    "import numpy as np\n",
    "import pandas as pd \n",
    "import matplotlib.pyplot as plt\n",
    "%matplotlib inline\n",
    "\n",
    "import os\n",
    "import itertools\n",
    "from glob import glob\n",
    "import PIL\n",
    "from PIL import Image\n",
    "from scipy import ndimage \n",
    "import scipy\n",
    "import sys\n",
    "\n",
    "from sklearn.metrics import confusion_matrix\n",
    "from sklearn.model_selection import train_test_split\n",
    "\n",
    "from keras.models import Sequential\n",
    "from keras.layers import Dense, Dropout, Flatten, Conv2D, MaxPool2D\n",
    "from keras.layers.normalization import BatchNormalization\n",
    "\n",
    "import tensorflow as tf\n",
    "from keras.models import Sequential\n",
    "from keras.layers import Conv2D\n",
    "from keras.layers import MaxPooling2D\n",
    "from keras.layers import Flatten\n",
    "from keras.layers import Dense\n",
    "from keras.preprocessing.image import ImageDataGenerator\n",
    "from keras.layers import Dropout\n",
    "\n",
    "# dataframe  id  label  image-array\n",
    "\n",
    "base_crack_Negative = os.path.join(\"c:/\", \"Users\", \"srija\", \"Downloads\", \"concrete_crack_images\",\"mlops\", \"concerete_crack_images\", \"training\", \"Negative\")\n",
    "base_crack_Positive = os.path.join(\"c:/\", \"Users\", \"srija\", \"Downloads\", \"concrete_crack_images\",\"mlops\", \"concerete_crack_images\", \"training\", \"Positive\")\n",
    "\n",
    "crack_Negative_df = pd.DataFrame(columns=( 'path', 'image', 'label'),index=np.arange(0,16037))\n",
    "crack_Positive_df = pd.DataFrame(columns=( 'path', 'image', 'label'),index=np.arange(0,16070))\n",
    "\n",
    "imageid_path_dict_Negative = np.array([x for x in glob(os.path.join(base_crack_Negative, '*.jpg'))])\n",
    "imageid_path_dict_Positive = np.array([x for x in glob(os.path.join(base_crack_Positive, '*.jpg'))])"
   ]
  },
  {
   "cell_type": "code",
   "execution_count": 8,
   "metadata": {},
   "outputs": [
    {
     "name": "stdout",
     "output_type": "stream",
     "text": [
      "Negative: (100, 75, 3)\n",
      "Positive: (100, 75, 3)\n",
      "(16037,) (16070,)\n",
      "(32107, 3)\n"
     ]
    }
   ],
   "source": [
    "crack_Negative_df['path']=imageid_path_dict_Negative\n",
    "crack_Negative_df['label']=0\n",
    "crack_Negative_df['image']=crack_Negative_df['path'].map(lambda x: np.asarray(Image.open(x).resize((75,100))))\n",
    "\n",
    "crack_Positive_df['path']=imageid_path_dict_Positive\n",
    "crack_Positive_df['label']=1\n",
    "crack_Positive_df['image']=crack_Positive_df['path'].map(lambda x: np.asarray(Image.open(x).resize((75,100))))\n",
    "\n",
    "print(\"Negative:\",crack_Negative_df[\"image\"][0].shape)\n",
    "print(\"Positive:\",crack_Positive_df[\"image\"][0].shape)\n",
    "\n",
    "print(imageid_path_dict_Negative.shape,imageid_path_dict_Positive.shape)\n",
    "\n",
    "crack_df = crack_Negative_df.append(crack_Positive_df)  \n",
    "crack_df.reset_index(drop=True,inplace=True) \n",
    "print(crack_df.shape)"
   ]
  },
  {
   "cell_type": "code",
   "execution_count": 10,
   "metadata": {},
   "outputs": [],
   "source": [
    "features=crack_df.drop(columns=['label'],axis=1)\n",
    "target=crack_df[\"label\"]\n",
    "\n",
    "x_train_o, x_test_o, y_train, y_test = train_test_split(features, target, test_size=0.20,random_state=1)\n",
    "\n",
    "x_train = np.asarray(x_train_o['image'].tolist())\n",
    "x_test = np.asarray(x_test_o['image'].tolist())\n",
    "\n",
    "x_train_mean = np.mean(x_train)\n",
    "x_train_std = np.std(x_train)\n",
    "\n",
    "x_train = (x_train - x_train_mean)/x_train_std\n",
    "x_test = (x_test - x_train_mean)/x_train_std\n",
    "\n",
    "# Reshape image in 3 dimensions (height = 100px, width = 100px , canal = 3)\n",
    "x_train = x_train.reshape(x_train.shape[0], *(75, 100, 3))\n",
    "x_test = x_test.reshape(x_test.shape[0], *(75, 100, 3))"
   ]
  },
  {
   "cell_type": "code",
   "execution_count": 14,
   "metadata": {},
   "outputs": [
    {
     "data": {
      "text/plain": [
       "6422"
      ]
     },
     "execution_count": 14,
     "metadata": {},
     "output_type": "execute_result"
    }
   ],
   "source": [
    "len(x_train)\n",
    "len(x_test)"
   ]
  },
  {
   "cell_type": "code",
   "execution_count": 11,
   "metadata": {
    "scrolled": true
   },
   "outputs": [
    {
     "name": "stdout",
     "output_type": "stream",
     "text": [
      "Model: \"sequential_1\"\n",
      "_________________________________________________________________\n",
      "Layer (type)                 Output Shape              Param #   \n",
      "=================================================================\n",
      "conv2d_1 (Conv2D)            (None, 75, 100, 16)       448       \n",
      "_________________________________________________________________\n",
      "max_pooling2d_1 (MaxPooling2 (None, 37, 50, 16)        0         \n",
      "_________________________________________________________________\n",
      "conv2d_2 (Conv2D)            (None, 37, 50, 32)        4640      \n",
      "_________________________________________________________________\n",
      "max_pooling2d_2 (MaxPooling2 (None, 18, 25, 32)        0         \n",
      "_________________________________________________________________\n",
      "conv2d_3 (Conv2D)            (None, 18, 25, 64)        18496     \n",
      "_________________________________________________________________\n",
      "max_pooling2d_3 (MaxPooling2 (None, 9, 12, 64)         0         \n",
      "_________________________________________________________________\n",
      "flatten_1 (Flatten)          (None, 6912)              0         \n",
      "_________________________________________________________________\n",
      "dense_1 (Dense)              (None, 128)               884864    \n",
      "_________________________________________________________________\n",
      "dense_2 (Dense)              (None, 1)                 129       \n",
      "=================================================================\n",
      "Total params: 908,577\n",
      "Trainable params: 908,577\n",
      "Non-trainable params: 0\n",
      "_________________________________________________________________\n",
      "Epoch 1/20\n",
      "201/201 [==============================] - 98s 486ms/step - loss: 0.0798 - accuracy: 0.9673\n",
      "Epoch 2/20\n",
      "201/201 [==============================] - 96s 479ms/step - loss: 0.0185 - accuracy: 0.9942\n",
      "Epoch 3/20\n",
      "201/201 [==============================] - 96s 478ms/step - loss: 0.0133 - accuracy: 0.9959\n",
      "Epoch 4/20\n",
      "201/201 [==============================] - 95s 475ms/step - loss: 0.0108 - accuracy: 0.9964\n",
      "Epoch 5/20\n",
      "201/201 [==============================] - 98s 486ms/step - loss: 0.0069 - accuracy: 0.9977\n",
      "Epoch 6/20\n",
      "201/201 [==============================] - 96s 477ms/step - loss: 0.0047 - accuracy: 0.9986\n",
      "Epoch 7/20\n",
      "201/201 [==============================] - 98s 488ms/step - loss: 0.0054 - accuracy: 0.9982\n",
      "Epoch 8/20\n",
      "201/201 [==============================] - 97s 481ms/step - loss: 0.0037 - accuracy: 0.9990\n",
      "Epoch 9/20\n",
      "201/201 [==============================] - 97s 482ms/step - loss: 0.0057 - accuracy: 0.9978\n",
      "Epoch 10/20\n",
      "201/201 [==============================] - 85s 421ms/step - loss: 0.0046 - accuracy: 0.9986\n",
      "Epoch 11/20\n",
      "201/201 [==============================] - 97s 483ms/step - loss: 0.0023 - accuracy: 0.9993\n",
      "Epoch 12/20\n",
      "201/201 [==============================] - 94s 469ms/step - loss: 0.0010 - accuracy: 0.9998\n",
      "Epoch 13/20\n",
      "201/201 [==============================] - 94s 469ms/step - loss: 0.0012 - accuracy: 0.9996\n",
      "Epoch 14/20\n",
      "201/201 [==============================] - 94s 468ms/step - loss: 0.0050 - accuracy: 0.9985\n",
      "Epoch 15/20\n",
      "201/201 [==============================] - 95s 471ms/step - loss: 0.0015 - accuracy: 0.9995\n",
      "Epoch 16/20\n",
      "201/201 [==============================] - 95s 473ms/step - loss: 0.0045 - accuracy: 0.9985\n",
      "Epoch 17/20\n",
      "201/201 [==============================] - 94s 468ms/step - loss: 0.0013 - accuracy: 0.9996\n",
      "Epoch 18/20\n",
      "201/201 [==============================] - 95s 471ms/step - loss: 7.4218e-04 - accuracy: 0.9998\n",
      "Epoch 19/20\n",
      "201/201 [==============================] - 95s 474ms/step - loss: 0.0018 - accuracy: 0.9995\n",
      "Epoch 20/20\n",
      "201/201 [==============================] - 95s 474ms/step - loss: 0.0023 - accuracy: 0.9992\n"
     ]
    }
   ],
   "source": [
    "model_ig = Sequential()\n",
    "\n",
    "model_ig.add(Conv2D(16, (3, 3), input_shape = (75, 100, 3),padding='same', activation = 'relu'))\n",
    "model_ig.add(MaxPooling2D(pool_size = (2, 2)))\n",
    "model_ig.add(Conv2D(32, (3, 3), padding = 'same',activation = 'relu'))\n",
    "model_ig.add(MaxPooling2D(pool_size = (2, 2)))\n",
    "model_ig.add(Conv2D(64, (3, 3), padding = 'same',activation = 'relu'))\n",
    "model_ig.add(MaxPooling2D(pool_size = (2, 2)))\n",
    "model_ig.add(Flatten())\n",
    "model_ig.add(Dense(units = 128, activation = 'relu'))\n",
    "model_ig.add(Dense(units = 1, activation = 'sigmoid'))\n",
    "\n",
    "model_ig.summary()\n",
    "model_ig.compile(optimizer = 'adam', loss = 'binary_crossentropy', metrics = ['accuracy'])\n",
    "\n",
    "datagen = ImageDataGenerator(validation_split=0.20)\n",
    "\n",
    "datagen.fit(x_train)\n",
    "\n",
    "# fits the model on batches with real-time data augmentation:\n",
    "training_generator = datagen.flow(x_train, y_train, batch_size=128)\n",
    "\n",
    "result = model_ig.fit_generator(training_generator, epochs=20)   "
   ]
  },
  {
   "cell_type": "code",
   "execution_count": 12,
   "metadata": {},
   "outputs": [
    {
     "name": "stdout",
     "output_type": "stream",
     "text": [
      "\n",
      "Test accuracy: 0.9975085854530334\n"
     ]
    }
   ],
   "source": [
    "test_loss, test_acc = model_ig.evaluate(x_test,  y_test, verbose=2)\n",
    "\n",
    "print('\\nTest accuracy:', test_acc)"
   ]
  },
  {
   "cell_type": "code",
   "execution_count": 13,
   "metadata": {},
   "outputs": [
    {
     "name": "stdout",
     "output_type": "stream",
     "text": [
      "Model: \"sequential_2\"\n",
      "_________________________________________________________________\n",
      "Layer (type)                 Output Shape              Param #   \n",
      "=================================================================\n",
      "conv2d_4 (Conv2D)            (None, 75, 100, 16)       448       \n",
      "_________________________________________________________________\n",
      "max_pooling2d_4 (MaxPooling2 (None, 37, 50, 16)        0         \n",
      "_________________________________________________________________\n",
      "conv2d_5 (Conv2D)            (None, 37, 50, 32)        4640      \n",
      "_________________________________________________________________\n",
      "max_pooling2d_5 (MaxPooling2 (None, 18, 25, 32)        0         \n",
      "_________________________________________________________________\n",
      "conv2d_6 (Conv2D)            (None, 18, 25, 64)        18496     \n",
      "_________________________________________________________________\n",
      "max_pooling2d_6 (MaxPooling2 (None, 9, 12, 64)         0         \n",
      "_________________________________________________________________\n",
      "flatten_2 (Flatten)          (None, 6912)              0         \n",
      "_________________________________________________________________\n",
      "dense_3 (Dense)              (None, 128)               884864    \n",
      "_________________________________________________________________\n",
      "dense_4 (Dense)              (None, 1)                 129       \n",
      "=================================================================\n",
      "Total params: 908,577\n",
      "Trainable params: 908,577\n",
      "Non-trainable params: 0\n",
      "_________________________________________________________________\n",
      "Epoch 1/20\n",
      "101/101 [==============================] - 93s 920ms/step - loss: 0.1815 - accuracy: 0.9245\n",
      "Epoch 2/20\n",
      "101/101 [==============================] - 88s 872ms/step - loss: 0.0259 - accuracy: 0.9924\n",
      "Epoch 3/20\n",
      "101/101 [==============================] - 83s 824ms/step - loss: 0.0201 - accuracy: 0.9934\n",
      "Epoch 4/20\n",
      "101/101 [==============================] - 71s 701ms/step - loss: 0.0141 - accuracy: 0.9959\n",
      "Epoch 5/20\n",
      "101/101 [==============================] - 81s 804ms/step - loss: 0.0107 - accuracy: 0.9963\n",
      "Epoch 6/20\n",
      "101/101 [==============================] - 86s 852ms/step - loss: 0.0103 - accuracy: 0.9971\n",
      "Epoch 7/20\n",
      "101/101 [==============================] - 85s 841ms/step - loss: 0.0092 - accuracy: 0.9970\n",
      "Epoch 8/20\n",
      "101/101 [==============================] - 82s 811ms/step - loss: 0.0079 - accuracy: 0.9972\n",
      "Epoch 9/20\n",
      "101/101 [==============================] - 78s 775ms/step - loss: 0.0092 - accuracy: 0.9967\n",
      "Epoch 10/20\n",
      "101/101 [==============================] - 86s 852ms/step - loss: 0.0071 - accuracy: 0.9979\n",
      "Epoch 11/20\n",
      "101/101 [==============================] - 118s 1s/step - loss: 0.0049 - accuracy: 0.9987\n",
      "Epoch 12/20\n",
      "101/101 [==============================] - 95s 938ms/step - loss: 0.0038 - accuracy: 0.9989\n",
      "Epoch 13/20\n",
      "101/101 [==============================] - 73s 726ms/step - loss: 0.0025 - accuracy: 0.9995\n",
      "Epoch 14/20\n",
      "101/101 [==============================] - 64s 632ms/step - loss: 0.0029 - accuracy: 0.9992\n",
      "Epoch 15/20\n",
      "101/101 [==============================] - 67s 666ms/step - loss: 0.0026 - accuracy: 0.9994\n",
      "Epoch 16/20\n",
      "101/101 [==============================] - 70s 698ms/step - loss: 0.0023 - accuracy: 0.9995\n",
      "Epoch 17/20\n",
      "101/101 [==============================] - 60s 595ms/step - loss: 0.0016 - accuracy: 0.9997\n",
      "Epoch 18/20\n",
      "101/101 [==============================] - 65s 639ms/step - loss: 9.4545e-04 - accuracy: 0.9999\n",
      "Epoch 19/20\n",
      "101/101 [==============================] - 68s 673ms/step - loss: 7.5933e-04 - accuracy: 0.9998\n",
      "Epoch 20/20\n",
      "101/101 [==============================] - 65s 646ms/step - loss: 7.0600e-04 - accuracy: 0.9998\n"
     ]
    }
   ],
   "source": [
    "model_ig = Sequential()\n",
    "\n",
    "model_ig.add(Conv2D(16, (3, 3), input_shape = (75, 100, 3),padding='same', activation = 'relu'))\n",
    "model_ig.add(MaxPooling2D(pool_size = (2, 2)))\n",
    "model_ig.add(Conv2D(32, (3, 3), padding = 'same',activation = 'relu'))\n",
    "model_ig.add(MaxPooling2D(pool_size = (2, 2)))\n",
    "model_ig.add(Conv2D(64, (3, 3), padding = 'same',activation = 'relu'))\n",
    "model_ig.add(MaxPooling2D(pool_size = (2, 2)))\n",
    "model_ig.add(Flatten())\n",
    "model_ig.add(Dense(units = 128, activation = 'relu'))\n",
    "model_ig.add(Dense(units = 1, activation = 'sigmoid'))\n",
    "\n",
    "model_ig.summary()\n",
    "model_ig.compile(optimizer = 'adam', loss = 'binary_crossentropy', metrics = ['accuracy'])\n",
    "\n",
    "datagen = ImageDataGenerator(validation_split=0.20)\n",
    "\n",
    "datagen.fit(x_train)\n",
    "\n",
    "training_generator = datagen.flow(x_train, y_train, batch_size=256)\n",
    "\n",
    "result = model_ig.fit(training_generator, epochs=20)   "
   ]
  }
 ],
 "metadata": {
  "kernelspec": {
   "display_name": "Python 3",
   "language": "python",
   "name": "python3"
  },
  "language_info": {
   "codemirror_mode": {
    "name": "ipython",
    "version": 3
   },
   "file_extension": ".py",
   "mimetype": "text/x-python",
   "name": "python",
   "nbconvert_exporter": "python",
   "pygments_lexer": "ipython3",
   "version": "3.7.4"
  }
 },
 "nbformat": 4,
 "nbformat_minor": 1
}
